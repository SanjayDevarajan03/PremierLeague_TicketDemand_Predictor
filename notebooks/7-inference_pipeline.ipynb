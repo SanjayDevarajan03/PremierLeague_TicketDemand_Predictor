{
 "cells": [
  {
   "cell_type": "code",
   "execution_count": 2,
   "metadata": {},
   "outputs": [],
   "source": [
    "import sys\n",
    "import os\n",
    "\n",
    "src_path = os.environ[\"src_path\"]\n",
    "sys.path.append(src_path)\n",
    "\n"
   ]
  },
  {
   "cell_type": "code",
   "execution_count": 3,
   "metadata": {},
   "outputs": [],
   "source": [
    "from datetime import timedelta, timezone, datetime\n",
    "\n",
    "import hopsworks\n",
    "import pandas as pd\n",
    "import numpy as np\n",
    "import src.components.feature_group_config as config\n",
    "from src.components.feature_group_config import FEATURE_VIEW_METADATA"
   ]
  },
  {
   "cell_type": "code",
   "execution_count": 4,
   "metadata": {},
   "outputs": [
    {
     "name": "stdout",
     "output_type": "stream",
     "text": [
      "/Users/sanjaydevarajan/anaconda3/bin/python\n"
     ]
    }
   ],
   "source": [
    "current_date = pd.to_datetime(datetime.utcnow(), utc=True).floor('h')\n",
    "current_date"
   ]
  },
  {
   "cell_type": "code",
   "execution_count": null,
   "metadata": {},
   "outputs": [],
   "source": [
    "# load recent batch of data from feature store\n",
    "from src.components.inference import load_batch_of_features_from_store\n",
    "features = load_batch_of_features_from_store(current_date)"
   ]
  },
  {
   "cell_type": "code",
   "execution_count": null,
   "metadata": {},
   "outputs": [],
   "source": [
    "features"
   ]
  },
  {
   "cell_type": "code",
   "execution_count": null,
   "metadata": {},
   "outputs": [],
   "source": [
    "from src.components.inference import load_model_from_registry, get_model_predictions\n",
    "\n",
    "model = load_model_from_registry()\n",
    "predictions = get_model_predictions(model, features)"
   ]
  },
  {
   "cell_type": "code",
   "execution_count": null,
   "metadata": {},
   "outputs": [],
   "source": [
    "predictions['date'] = current_date\n",
    "predictions"
   ]
  },
  {
   "cell_type": "code",
   "execution_count": null,
   "metadata": {},
   "outputs": [],
   "source": [
    "from src.plot import plot_one_sample\n",
    "\n",
    "plot_one_sample(example_id=6,\n",
    "                features=features,\n",
    "                targets=predictions['prediction_demand'],\n",
    "                predictions=pd.Series(predictions['predicted_demand']))"
   ]
  },
  {
   "cell_type": "code",
   "execution_count": null,
   "metadata": {},
   "outputs": [],
   "source": [
    "from src.plot import plot_one_sample\n",
    "\n",
    "plot_one_sample(example_id=8,\n",
    "                features=features,\n",
    "                targets=predictions['prediction_demand'],\n",
    "                predictions=pd.Series(predictions['predicted_demand']))"
   ]
  },
  {
   "cell_type": "code",
   "execution_count": null,
   "metadata": {},
   "outputs": [],
   "source": [
    "# save predictions to the feature store\n",
    "from src.components.feature_store_api import get_feature_store\n",
    "import src.components.feature_group_config as config\n",
    "\n",
    "# connect to the feature group\n",
    "feature_group = get_feature_store().get_or_create_feature_group(\n",
    "    name = config.FEATURE_GROUP_PREDICTIONS_METADATA.name,\n",
    "    version = 1,\n",
    "    description = \"Predictions generate by oru production model\",\n",
    "    primary_key = [\"sub_region_code\", \"date\"],\n",
    "    event_time = \"date\"\n",
    ")"
   ]
  },
  {
   "cell_type": "code",
   "execution_count": null,
   "metadata": {},
   "outputs": [],
   "source": [
    "feature_group.insert(predictions,write_options={\"wait_for_job\": False})"
   ]
  }
 ],
 "metadata": {
  "kernelspec": {
   "display_name": "base",
   "language": "python",
   "name": "python3"
  },
  "language_info": {
   "codemirror_mode": {
    "name": "ipython",
    "version": 3
   },
   "file_extension": ".py",
   "mimetype": "text/x-python",
   "name": "python",
   "nbconvert_exporter": "python",
   "pygments_lexer": "ipython3",
   "version": "3.11.5"
  }
 },
 "nbformat": 4,
 "nbformat_minor": 2
}
