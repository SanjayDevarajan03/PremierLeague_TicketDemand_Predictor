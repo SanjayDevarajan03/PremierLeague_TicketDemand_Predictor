{
 "cells": [
  {
   "cell_type": "code",
   "execution_count": null,
   "metadata": {},
   "outputs": [],
   "source": [
    "import pandas as pd\n",
    "import requests\n",
    "from zipfile import ZipFile\n",
    "import json\n",
    "\n",
    "def download_and_extract_data() -> pd.DataFrame:\n",
    "    pass"
   ]
  },
  {
   "cell_type": "code",
   "execution_count": 10,
   "metadata": {},
   "outputs": [
    {
     "name": "stdout",
     "output_type": "stream",
     "text": [
      "200\n",
      "<!doctype html>\n",
      "<html data-adblockkey=\"MFwwDQYJKoZIhvcNAQEBBQADSwAwSAJBANDrp2lz7AOmADaN8tA50LsWcjLFyQFcb/P2Txc58oYOeILb3vBw7J6f4pamkAQVSQuqYsKx3YzdUHCvbVZvFUsCAwEAAQ==_uf6VCleIMvJQGPU7G57HgH6sgyLixFkmQKieRfxgcW5WoYN1pjsuHkjGz6B3Y1aNtRVMsZK9xLdhJmtT9SHqKw==\" lang=\"en\" style=\"background: #2B2B2B;\">\n",
      "<head>\n",
      "    <meta charset=\"utf-8\">\n",
      "    <meta name=\"viewport\" content=\"width=device-width, initial-scale=1\">\n",
      "    <link rel=\"icon\" href=\"data:image/png;base64,iVBORw0KGgoAAAANSUhEUgAAAAEAAAABCAIAAACQd1PeAAAADElEQVQI12P4//8/AAX+Av7czFnnAAAAAElFTkSuQmCC\">\n",
      "    <link rel=\"preconnect\" href=\"https://www.google.com\" crossorigin>\n",
      "</head>\n",
      "<body>\n",
      "<div id=\"target\" style=\"opacity: 0\"></div>\n",
      "<script>window.park = \"eyJ1dWlkIjoiYzFmZGFkMDItYWQwNC00ZTUwLWFkNTAtM2E0NDkwNmY2NDA5IiwicGFnZV90aW1lIjoxNzM5OTA3NDI1LCJwYWdlX3VybCI6Imh0dHBzOi8vYXBpLWZvb3RiYWxsLXN0YW5kaW5ncy5hemhhcmltbS5zaXRlL2xlYWd1ZXMiLCJwYWdlX21ldGhvZCI6IkdFVCIsInBhZ2VfcmVxdWVzdCI6e30sInBhZ2VfaGVhZGVycyI6e30sImhvc3QiOiJhcGktZm9vdGJhbGwtc3RhbmRpbmdzLmF6aGFyaW1tLnNpdGUiLCJpcCI6IjIzLjExOS4yMDkuMTEyIn0K\";</script>\n",
      "<script src=\"/bnXnMEZbq.js\"></script>\n",
      "</body>\n",
      "</html>\n",
      "\n"
     ]
    }
   ],
   "source": [
    "response_API = requests.get(\"https://api-football-standings.azharimm.site/leagues\")\n",
    "print(response_API.status_code)\n",
    "\n",
    "data = response_API.text\n",
    "#json.loads(data)\n",
    "print(data)"
   ]
  },
  {
   "cell_type": "code",
   "execution_count": 8,
   "metadata": {},
   "outputs": [
    {
     "ename": "ModuleNotFoundError",
     "evalue": "No module named 'openmeteo_requests'",
     "output_type": "error",
     "traceback": [
      "\u001b[0;31m---------------------------------------------------------------------------\u001b[0m",
      "\u001b[0;31mModuleNotFoundError\u001b[0m                       Traceback (most recent call last)",
      "Cell \u001b[0;32mIn[8], line 1\u001b[0m\n\u001b[0;32m----> 1\u001b[0m \u001b[38;5;28;01mimport\u001b[39;00m \u001b[38;5;21;01mopenmeteo_requests\u001b[39;00m\n\u001b[1;32m      2\u001b[0m \u001b[38;5;28;01mimport\u001b[39;00m \u001b[38;5;21;01mrequests_cache\u001b[39;00m\n\u001b[1;32m      3\u001b[0m \u001b[38;5;28;01mfrom\u001b[39;00m \u001b[38;5;21;01mretry_requests\u001b[39;00m \u001b[38;5;28;01mimport\u001b[39;00m retry\n",
      "\u001b[0;31mModuleNotFoundError\u001b[0m: No module named 'openmeteo_requests'"
     ]
    }
   ],
   "source": [
    "import openmeteo_requests\n",
    "import requests_cache\n",
    "from retry_requests import retry\n",
    "from pathlib import Path\n",
    "from src.paths import RAW_DATA_weather_DIR\n",
    "\n",
    "def download_and_extract_weather_data(start_date, end_date):\n",
    "    \"\"\"\n",
    "    Downloads hourly weather data from the Open-Meteo API and saves it as a CSV\n",
    "\n",
    "    Args:\n",
    "        start_date (str): Start date in \"YYYY-MM-DD\" format.\n",
    "        end_date (str): End date in \"YYYY-MM-DD\" format. \n",
    "\n",
    "    Returns:\n",
    "        pd.DateFrame: A DataFrame containing hourly weather data with temperature values.\n",
    "    \"\"\"\n",
    "\n",
    "    # Setup the Open-Meteo API client\n",
    "    cache_session = requests_cache.CachedSession('.cache', expire_after=3600)\n",
    "    retry_session = retry(cache_session, retries=5, backoff_factor=0.2)\n",
    "    openmeteo = openmeteo_requests.Client(session=retry_session)\n",
    "\n",
    "    # Make sure all required weather variables are listed here\n",
    "    # The order of variables in hourly or daily is important to assign them correctly below\n",
    "    url = \"https://historical-forecast-api.open-meteo.com/v1/forecast\"\n",
    "    params = {\n",
    "        \"latitude\": 52.52,\n",
    "        \"longitude\": 13.41,\n",
    "        \"start_date\": start_date,\n",
    "        \"end_date\": end_date,\n",
    "        \"hourly\": [\"temperature_2m\", \"precipitation\", \"visibility\"],\n",
    "        \"timeformat\": \"unixtime\",\n",
    "        \"timezone\": \"Europe/London\" \n",
    "    }\n",
    "\n",
    "    try:\n",
    "        # Feth data from the Open-Meteo API\n",
    "        responses = openmeteo.weather_api(url, params=params)[0] # assuming single location\n",
    "\n",
    "        # Process metadata\n",
    "        print(f\"Coordinates: {responses.Latitude()}°N {responses.Longitude()}°E\")\n",
    "        print(f\"Elevation {responses.Elevation()} m asl\")\n",
    "        print(f\"Timezone {responses.Timezone()} {responses.TimezoneAbbreviation()}\")\n",
    "        print(f\"Timezone difference to GMT+0 {responses.UtcOffsetSeconds()} seconds\")\n",
    "        \n",
    "        # Extract hourly data\n",
    "        hourly = responses.hourly()\n",
    "        hourly_temperature_2m = hourly.Variables(0).ValuesAsNumpy()\n",
    "        hourly_precipitation = hourly.Variables(1).ValuesAsNumpy()\n",
    "        hourly_visibility = hourly.Variables(2).ValuesAsNumpy()\n",
    "\n",
    "        hourly_data = {\"date\": pd.date_range(\n",
    "            start=pd.to_datetime(hourly.Time(), unit=\"s\", utc=\"True\"),\n",
    "            end = pd.to_datetime(hourly.TimeEnd(), unit = \"s\", utc=\"True\"),\n",
    "            freq = pd.Timedelta(seconds=hourly.Interval()),\n",
    "            inclusive=\"left\"\n",
    "        )}\n",
    "\n",
    "        hourly_data[\"temperature_2m\"] = hourly_temperature_2m\n",
    "        hourly_data[\"precipitation\"] = hourly_precipitation\n",
    "        hourly_data[\"visibility\"] = hourly_visibility\n",
    "\n",
    "        # Convert to DataFrame and process timestamps\n",
    "        hourly_dataframe  = pd.DataFrame(data=hourly_data)\n",
    "\n",
    "        hourly_dataframe[\"date\"] = pd.to_datetime(hourly_dataframe[\"date\"]).dt.floor(\"h\").dt.tz_localize(None)\n",
    "\n",
    "        # Save to file\n",
    "        file_path = RAW_DATA_weather_DIR/f\"weather_data_{start_date}_to{end_date}.csv\"\n",
    "        hourly_dataframe.to_csv(file_path, index=False)\n",
    "        print(f\"Weather data to saved to {file_path}\")\n",
    "\n",
    "        return hourly_dataframe\n",
    "    except Exception as e:\n",
    "        print(f\"Error downloading weather data : {e}\")\n",
    "        return pd.DataFrame()\n",
    "\n"
   ]
  },
  {
   "cell_type": "code",
   "execution_count": 7,
   "metadata": {},
   "outputs": [
    {
     "ename": "NameError",
     "evalue": "name 'download_and_extract_weather_data' is not defined",
     "output_type": "error",
     "traceback": [
      "\u001b[0;31m---------------------------------------------------------------------------\u001b[0m",
      "\u001b[0;31mNameError\u001b[0m                                 Traceback (most recent call last)",
      "Cell \u001b[0;32mIn[7], line 1\u001b[0m\n\u001b[0;32m----> 1\u001b[0m weather_data \u001b[38;5;241m=\u001b[39m download_and_extract_weather_data(\u001b[38;5;124m\"\u001b[39m\u001b[38;5;124m\"\u001b[39m, \u001b[38;5;124m\"\u001b[39m\u001b[38;5;124m\"\u001b[39m)\n\u001b[1;32m      2\u001b[0m weather_data\n",
      "\u001b[0;31mNameError\u001b[0m: name 'download_and_extract_weather_data' is not defined"
     ]
    }
   ],
   "source": [
    "weather_data = download_and_extract_weather_data(\"\", \"\")\n",
    "weather_data"
   ]
  }
 ],
 "metadata": {
  "kernelspec": {
   "display_name": "base",
   "language": "python",
   "name": "python3"
  },
  "language_info": {
   "codemirror_mode": {
    "name": "ipython",
    "version": 3
   },
   "file_extension": ".py",
   "mimetype": "text/x-python",
   "name": "python",
   "nbconvert_exporter": "python",
   "pygments_lexer": "ipython3",
   "version": "3.11.5"
  }
 },
 "nbformat": 4,
 "nbformat_minor": 2
}
