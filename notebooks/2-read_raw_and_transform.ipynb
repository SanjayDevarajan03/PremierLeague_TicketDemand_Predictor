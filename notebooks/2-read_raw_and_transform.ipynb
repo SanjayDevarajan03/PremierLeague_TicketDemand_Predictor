{
 "cells": [
  {
   "cell_type": "code",
   "execution_count": 9,
   "metadata": {},
   "outputs": [],
   "source": [
    "import sys\n",
    "sys.path.append('/Users/sanjaydevarajan/Desktop/ML Projects/PremierLeague_TicketDemand_Predictor')\n",
    "\n"
   ]
  },
  {
   "cell_type": "code",
   "execution_count": 10,
   "metadata": {},
   "outputs": [],
   "source": [
    "from src.components.data_info import *\n",
    "from src.paths import *\n",
    "import pandas as pd"
   ]
  },
  {
   "cell_type": "code",
   "execution_count": null,
   "metadata": {},
   "outputs": [],
   "source": []
  },
  {
   "cell_type": "code",
   "execution_count": null,
   "metadata": {},
   "outputs": [],
   "source": [
    "import pandas as pd\n",
    "import matplotlib.pyplot as plt\n",
    "import seaborn as sns\n",
    "\n",
    "def plot_demand_trend(data,start_date, end_date, region_code):\n",
    "    \"\"\"\n",
    "    Plots the demand trend for a specific regioon  within a given date range.\n",
    "\n",
    "    Parameters:\n",
    "        data(pd.DataFrame) : The dataframe containing the demand data.\n",
    "        start_date (str): The start date for the plot in the 'YYYY-MM-DD' format.\n",
    "        end_date (str): The end date for the plot in 'YYYY-MM-DD' format.\n",
    "        region_code (int): The sub_region_cide to filter the data for plotting.\n",
    "    \"\"\"\n",
    "\n",
    "    if data['date'].dtype == object:\n",
    "        data['date'] = pd.to_datetime(data['date'])\n",
    "\n",
    "\n",
    "    # Filter data based on date range and region\n",
    "    mask = (data['date'] >= start_date) & (data['date'] <= end_date) & (data['sub_region_code'] == region_code)\n",
    "    filtered_data = data[mask]\n",
    "\n",
    "    if filtered_data.empty:\n",
    "        print(f\"No data available for Region {region_code} between {start_date} and {end_date}\")\n",
    "        return\n",
    "    \n",
    "    # Plotting\n",
    "    plt.figure(figsize=(10,8))\n",
    "    sns.lineplot(data=filtered_data, x=\"date\", y=\"demand\", label=\"sub_region_code\")\n",
    "    plt.title(f\"Demand Trend for Region {region_code} from {start_date} to {end_date}\")\n",
    "\n",
    "    plt.xlabel(\"Date\")\n",
    "    plt.ylabel(\"Demand\")\n",
    "    plt.grid(True)\n",
    "    plt.xticks(rotation=45)\n",
    "    plt.tight_layout()\n",
    "    plt.plot()\n",
    "\n",
    "\n",
    "\n",
    "\n",
    "\n"
   ]
  },
  {
   "cell_type": "code",
   "execution_count": null,
   "metadata": {},
   "outputs": [],
   "source": [
    "import pandas as pd\n",
    "full_data = pd.read_parquet(\"\")\n",
    "full_data"
   ]
  },
  {
   "cell_type": "code",
   "execution_count": null,
   "metadata": {},
   "outputs": [],
   "source": [
    "from pandas.tseries.holiday import USFederalHolidayCalendar as calendar\n",
    "\n",
    "def feature_engineering(data):\n",
    "    data['date'] = pd.to_datetime(data['date'], format=\"%Y-%m-%d %H:%M:%S\")\n",
    "\n",
    "    data['hour'] = data['date'].dt.hour\n",
    "    data['day_of_week'] = data['date'].dt.dayofweek\n",
    "    data['month'] = data['date'].dt.month\n",
    "    data['is_weekend'] = data['date'].isin([5,6]).astype(int)\n",
    "\n",
    "    # add bank holiday\n",
    "    holidays = calendar().holidays(start=data['date'].min(), end=data['date'].max())\n",
    "    data['is_holiday'] = data['date'].isin(holidays).astype(int)\n",
    "    return data"
   ]
  },
  {
   "cell_type": "code",
   "execution_count": null,
   "metadata": {},
   "outputs": [],
   "source": [
    "full_data_with_FE = feature_engineering(full_data)\n",
    "full_data_with_FE.to_parquet(TRANSFORMED_DATA_DIR/f'full_data_with_FE_parquet', index=False)"
   ]
  },
  {
   "cell_type": "code",
   "execution_count": null,
   "metadata": {},
   "outputs": [],
   "source": [
    "import pandas as pd\n",
    "from src.components.data_info import *\n",
    "full_data_with_FE = pd.read_parquet(('..//data/transformed/full_data_with_FE.parquet'))\n",
    "full_data_with_FE"
   ]
  },
  {
   "cell_type": "code",
   "execution_count": null,
   "metadata": {},
   "outputs": [],
   "source": [
    "import tqdm\n",
    "features, targets = transform_ts_data_into_features_and_target(full_data, input_seq_len=24*28*1, step_size=23)\n",
    "print(f'{features.shape=}')\n",
    "print(f'{targets.shape=}')"
   ]
  },
  {
   "cell_type": "code",
   "execution_count": null,
   "metadata": {},
   "outputs": [],
   "source": [
    "features"
   ]
  },
  {
   "cell_type": "code",
   "execution_count": null,
   "metadata": {},
   "outputs": [],
   "source": [
    "tabular_data = features\n",
    "tabular_data['target_demand_next_hour'] = targets\n",
    "\n",
    "from src.paths import TRANSFORMED_DATA_DIR\n",
    "tabular_data.to_parquet(TRANSFORMED_DATA_DIR/'tabular_data')"
   ]
  }
 ],
 "metadata": {
  "kernelspec": {
   "display_name": "base",
   "language": "python",
   "name": "python3"
  },
  "language_info": {
   "codemirror_mode": {
    "name": "ipython",
    "version": 3
   },
   "file_extension": ".py",
   "mimetype": "text/x-python",
   "name": "python",
   "nbconvert_exporter": "python",
   "pygments_lexer": "ipython3",
   "version": "3.11.5"
  }
 },
 "nbformat": 4,
 "nbformat_minor": 2
}
