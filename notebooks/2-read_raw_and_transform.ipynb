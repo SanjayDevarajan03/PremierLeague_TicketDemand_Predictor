{
 "cells": [
  {
   "cell_type": "code",
   "execution_count": 9,
   "metadata": {},
   "outputs": [],
   "source": [
    "import sys\n",
    "sys.path.append('/Users/sanjaydevarajan/Desktop/ML Projects/PremierLeague_TicketDemand_Predictor')\n",
    "\n"
   ]
  },
  {
   "cell_type": "code",
   "execution_count": 10,
   "metadata": {},
   "outputs": [],
   "source": [
    "from src.components.data_info import *\n",
    "from src.paths import *\n",
    "import pandas as pd"
   ]
  },
  {
   "cell_type": "code",
   "execution_count": null,
   "metadata": {},
   "outputs": [],
   "source": []
  },
  {
   "cell_type": "code",
   "execution_count": null,
   "metadata": {},
   "outputs": [],
   "source": [
    "import pandas as pd\n",
    "import matplotlib.pyplot as plt\n",
    "import seaborn as sns\n",
    "\n",
    "def plot_demand_trend(data,start_date, end_date, region_code):\n",
    "    \"\"\"\n",
    "    Plots the demand trend for a specific regioon  within a given date range.\n",
    "\n",
    "    Parameters:\n",
    "        data(pd.DataFrame) : The dataframe containing the demand data.\n",
    "        start_date (str): The start date for the plot in the 'YYYY-MM-DD' format.\n",
    "        end_date (str): The end date for the plot in 'YYYY-MM-DD' format.\n",
    "        region_code (int): The sub_region_cide to filter the data for plotting.\n",
    "    \"\"\"\n",
    "\n",
    "    if data['date'].dtype == object:\n",
    "        data['date'] = pd.to_datetime(data['date'])\n",
    "\n",
    "\n",
    "    # Filter data based on date range and region\n",
    "    mask = (data['date'] >= start_date) & (data['date'] <= end_date)"
   ]
  }
 ],
 "metadata": {
  "kernelspec": {
   "display_name": "base",
   "language": "python",
   "name": "python3"
  },
  "language_info": {
   "codemirror_mode": {
    "name": "ipython",
    "version": 3
   },
   "file_extension": ".py",
   "mimetype": "text/x-python",
   "name": "python",
   "nbconvert_exporter": "python",
   "pygments_lexer": "ipython3",
   "version": "3.11.5"
  }
 },
 "nbformat": 4,
 "nbformat_minor": 2
}
