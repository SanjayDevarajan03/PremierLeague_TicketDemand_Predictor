{
 "cells": [
  {
   "cell_type": "code",
   "execution_count": 95,
   "metadata": {},
   "outputs": [],
   "source": [
    "import pandas as pd\n",
    "import requests\n",
    "from zipfile import ZipFile\n",
    "import json\n",
    "from dotenv import load_dotenv\n",
    "import os\n",
    "\n",
    "load_dotenv()\n",
    "\n",
    "ticketmaster_api_key = os.environ[\"TICKETMASTER_API_KEY\"]\n",
    "src_path = os.environ[\"src_path\"]"
   ]
  },
  {
   "cell_type": "code",
   "execution_count": 50,
   "metadata": {},
   "outputs": [],
   "source": [
    "def download_and_extract_matches_data():\n",
    "    response_API = requests.get(\"https://www.thesportsdb.com/api/v1/json/3/searchteams.php?t=Arsenal\") #https://api-football-standings.azharimm.site/leagues\n",
    "    print(response_API.status_code)\n",
    "\n",
    "    data = response_API.text\n",
    "    #json.loads(data)\n",
    "    print(data)"
   ]
  },
  {
   "cell_type": "code",
   "execution_count": 51,
   "metadata": {},
   "outputs": [
    {
     "name": "stdout",
     "output_type": "stream",
     "text": [
      "200\n",
      "{\"teams\":[{\"idTeam\":\"133604\",\"idESPN\":\"359\",\"idAPIfootball\":\"42\",\"intLoved\":\"8\",\"strTeam\":\"Arsenal\",\"strTeamAlternate\":\"Arsenal Football Club, AFC, Arsenal FC\",\"strTeamShort\":\"ARS\",\"intFormedYear\":\"1892\",\"strSport\":\"Soccer\",\"strLeague\":\"English Premier League\",\"idLeague\":\"4328\",\"strLeague2\":\"FA Cup\",\"idLeague2\":\"4482\",\"strLeague3\":\"EFL Cup\",\"idLeague3\":\"4570\",\"strLeague4\":\"UEFA Champions League\",\"idLeague4\":\"4480\",\"strLeague5\":\"\",\"idLeague5\":null,\"strLeague6\":\"\",\"idLeague6\":null,\"strLeague7\":\"\",\"idLeague7\":null,\"strDivision\":null,\"idVenue\":\"15528\",\"strStadium\":\"Emirates Stadium\",\"strKeywords\":\"Gunners, Gooners\",\"strRSS\":\"https:\\/\\/www.allarsenal.com\\/feed\\/\",\"strLocation\":\"Holloway, London, England\",\"intStadiumCapacity\":\"60338\",\"strWebsite\":\"www.arsenal.com\",\"strFacebook\":\"www.facebook.com\\/Arsenal\",\"strTwitter\":\"twitter.com\\/arsenal\",\"strInstagram\":\"instagram.com\\/arsenal\",\"strDescriptionEN\":\"Arsenal Football Club is a professional football club based in Islington, London, England, that plays in the Premier League, the top flight of English football. The club has won 13 League titles, a record 13 FA Cups, 2 League Cups, 15 FA Community Shields, 1 League Centenary Trophy, 1 UEFA Cup Winners' Cup and 1 Inter-Cities Fairs Cup.\\r\\n\\r\\nArsenal was the first club from the South of England to join The Football League, in 1893, and they reached the First Division in 1904. Relegated only once, in 1913, they continue the longest streak in the top division, and have won the second-most top-flight matches in English football history. In the 1930s, Arsenal won five League Championships and two FA Cups, and another FA Cup and two Championships after the war. In 1970–71, they won their first League and FA Cup Double. Between 1989 and 2005, they won five League titles and five FA Cups, including two more Doubles. They completed the 20th century with the highest average league position.\\r\\n\\r\\nHerbert Chapman won Arsenal's first national trophies, but died prematurely. He helped introduce the WM formation, floodlights, and shirt numbers, and added the white sleeves and brighter red to the club's kit. Arsène Wenger was the longest-serving manager and won the most trophies. He won a record 7 FA Cups, and his title-winning team set an English record for the longest top-flight unbeaten league run at 49 games between 2003 and 2004, receiving the nickname The Invincibles.\\r\\n\\r\\nIn 1886, Woolwich munitions workers founded the club as Dial Square. In 1913, the club crossed the city to Arsenal Stadium in Highbury, becoming close neighbours of Tottenham Hotspur, and creating the North London derby. In 2006, they moved to the nearby Emirates Stadium. In terms of revenue, Arsenal is the ninth highest-earning football club in the world, earned €487.6m in 2016–17 season. Based on social media activity from 2014 to 2015, Arsenal's fanbase is the fifth largest in the world. In 2018, Forbes estimated the club was the third most valuable in England, with the club being worth $2.24 billion.\",\"strDescriptionDE\":\"Der FC Arsenal (offiziell: Arsenal Football Club) – auch bekannt als (The) Arsenal, (The) Gunners (deutsche Übersetzung: „Schützen“ oder „Kanoniere“) oder im deutschen Sprachraum auch Arsenal London genannt – ist ein 1886 gegründeter Fußballverein aus dem Ortsteil Holloway des Nordlondoner Bezirks Islington. Mit 13 englischen Meisterschaften und elf FA-Pokalsiegen zählt der Klub zu den erfolgreichsten englischen Fußballvereinen.Erst über 40 Jahre nach der Gründung gewann Arsenal mit fünf Ligatiteln und zwei FA Cups in den 1930er Jahren seine ersten bedeutenden Titel. Der nächste Meilenstein war in der Saison 1970\\/71 der Gewinn des zweiten englischen „Doubles“ im 20. Jahrhundert. In den vergangenen 20 Jahren etablierte sich Arsenal endgültig als einer der erfolgreichsten englischen Fußballvereine, und beim Gewinn zweier weiterer Doubles zu Beginn des 21. Jahrhunderts blieb die Mannschaft in der Ligasaison 2003\\/04 als zweite in der englischen Fußballgeschichte ungeschlagen. Zunehmende europäische Ambitionen unterstrich der Verein in der Spielzeit 2005\\/06, als Arsenal als erster Londoner Verein das Finale der Champions League erreichte.\",\"strDescriptionFR\":\"Arsenal Football Club est un club de football anglais fondé le 1er décembre 1886 à Londres. Son siège est situé dans le borough londonien d'Islington.\\r\\n\\r\\nArsenal participe au championnat d'Angleterre de football depuis 1919 dont il a remporté treize éditions, ce qui en fait le troisième club le plus titré d'Angleterre, ainsi que treize coupes d'Angleterre ce qui constitue un record (devant Manchester United, qui en a remporté 12). Sur le plan continental, les Gunners (en français : « les canonniers ») comptent à leur palmarès une Coupe d'Europe des vainqueurs de coupe obtenue en 1994. Deux fois finalistes de cette coupe des vainqueurs de coupe en 1980 et 1995, ils ont également atteint les finales de la coupe de l'UEFA en 2000, de la Ligue des champions en 2006 et de l'Europa League en 2019.\\r\\n\\r\\nRésident dès 1913 du stade de Highbury, situé dans un quartier du nord de Londres, le club s’est installé en 2006 dans une nouvelle enceinte de 60 355 places : l'Emirates Stadium, situé à Ashburton Grove. Arsenal nourrit une certaine rivalité avec les nombreux autres clubs de la capitale, mais celle l'opposant à Tottenham Hotspur, avec qui il dispute chaque année le « North London derby » est particulièrement ancienne et profonde.\\r\\n\\r\\nLe club est dirigé par Chips Keswick (en) qui succède pour raisons de santé en juin 2013 à Peter Hill-Wood, fils et petit-fils des anciens présidents Denis et Samuel Hill-Wood. Il remplace son père à la mort de ce dernier, en 1982, après vingt ans de responsabilités. Son entraîneur depuis le 29 novembre 2019 est le Suédois Fredrik Ljungberg, ancien joueur du club, après le limogeage de l’Espagnol Unai Emery. Cependant le 20 décembre 2019, l'Espagnol Mikel Arteta, lui aussi ancien joueur du club, est nommé entraîneur. Il était avant sa nomination l'assistant de Pep Guardiola à Manchester City\",\"strDescriptionCN\":null,\"strDescriptionIT\":\"L'Arsenal Football Club, noto semplicemente come Arsenal, è una società calcistica inglese con sede a Londra, più precisamente nel quartiere di Holloway, nel borgo di Islington.[3]\\r\\n\\r\\nFondato nel 1886, è uno dei quattordici club che rappresentano la città di Londra a livello professionistico,[4] nonché uno dei più antichi del Paese. Milita nella massima serie del calcio inglese ininterrottamente dal 1919-1920, risultando quindi la squadra da più tempo presente in First Division\\/Premier League. È la prima squadra della capitale del Regno Unito per successi sportivi e, in ambito federale, la terza dopo Manchester United e Liverpool, essendosi aggiudicata nel corso della sua storia tredici campionati inglesi, dodici FA Cup (record di vittorie, condiviso con il Manchester United), due League Cup e quattordici Community Shield (una condivisa),[5] mentre in ambito internazionale ha conquistato una Coppa delle Coppe ed una Coppa delle Fiere. Inoltre è una delle tredici squadre che hanno raggiunto le finali di tutte le tre principali competizioni gestite dalla UEFA: Champions League (2005-2006), Coppa UEFA (1999-2000) e Coppa delle Coppe (1979-1980, 1993-1994 e 1994-1995).[6]\\r\\n\\r\\nI colori sociali, rosso per la maglietta e bianco per i pantaloncini, hanno subìto variazioni più o meno evidenti nel corso degli anni. Anche la sede del club è stata cambiata più volte: inizialmente la squadra giocava a Woolwich, ma nel 1913 si spostò all'Arsenal Stadium, nel quartiere di Highbury; dal 2006 disputa invece le sue partite casalinghe nel nuovo Emirates Stadium. Lo stemma è stato modificato ripetutamente, ma al suo interno è sempre comparso almeno un cannone. Proprio per questo motivo i giocatori ed i tifosi dell'Arsenal sono spesso soprannominati Gunners (in italiano \\\"cannonieri\\\").\\r\\n\\r\\nL'Arsenal conta su una schiera di tifosi molto nutrita, distribuita in ogni parte del mondo. Nel corso degli anni sono sorte profonde rivalità con i sostenitori di club concittadini, la più sentita delle quali è quella con i seguaci del Tottenham Hotspur, con i quali i Gunners giocano regolarmente il North London derby.[7] L'Arsenal è anche uno dei club più ricchi del mondo, con un patrimonio stimato di 1,3 miliardi di dollari, secondo la rivista Forbes nel 2014, facendone il quinto club più ricco del pianeta e il secondo in Inghilterra.[8]\",\"strDescriptionJP\":\"アーセナル・フットボール・クラブ（Arsenal Football Club、イギリス英語発音: [ˈɑːsənl ˈfutˌbɔːl klʌb]）は、イングランドの首都ロンドン北部をホームタウンとする、イングランドプロサッカーリーグ（プレミアリーグ）に加盟するプロサッカークラブ。クラブカラーは赤と白。\\r\\n\\r\\n現在のホームスタジアムはロンドンのエミレーツ・スタジアム（収容人数60,260人）。プレミアリーグに所属し、同リーグにおいて3回の優勝記録を持つ（フットボールリーグ時代を含めると13回）。2003-2004シーズンには無敗優勝を達成したイングランド屈指の強豪である。1886年に軍需工場の労働者のクラブとして創設されたため、チームのエンブレムは大砲のマークを持つ。「ガナーズ（Gunners）」の愛称で知られ[1]、サポーターは「グーナー（Gooner）」と呼ばれる。\\r\\n\\r\\nクラブのモットーは「勝利は調和の中から生まれる（ラテン語: Victoria Concordia Crescit）」。1949年から使用されたクレストに初めて登場する。現行のクレストは2002年から使用されており、大砲の上にサンセリフ体でチーム名が書かれている。\",\"strDescriptionRU\":\"«Арсена́л» (официальное полное название — Футбольный клуб «Арсенал», англ. Arsenal Football Club, английское произношение: [ˈɑrsənəl 'futbɔ:l klʌb]) — английский профессиональный футбольный клуб из Северного Лондона, выступающий в Премьер-лиге. Основан в октябре 1886 года. Клуб 13 раз становился чемпионом Англии, 13 раз выигрывал Кубок Англии. Домашним стадионом клуба является Эмирейтс, вмещающий 60 704 зрителей[1].\\r\\n\\r\\n«Арсенал» провёл бо́льшую часть своей истории в высшем дивизионе английского футбола, в 1892 году стал одним из клубов-основателей английской Премьер-лиги[4]. Также клуб является рекордсменом по количеству сезонов подряд, проведённых в высшем дивизионе чемпионата Англии, начиная с 1919 года[5].\\r\\n\\r\\nПо данным Forbes на 2018 год, «Арсенал» занимал шестое место в списке самых дорогих футбольных клубов мира и оценивался в сумму 2,238 млрд. долларов США[6]. По данным аудиторской компании Deloitte, по итогам сезона 2016\\/17 «Арсенал» занимал 6-ю строчку в рейтинге самых доходных футбольных клубов с доходом в размере 487,6 млн евро[7].\",\"strDescriptionES\":\"El Arsenal Football Club (pronunciación en inglés: \\/ˈɑː(ɹ)sənəl ˈfʊtˌbɔl klʌb\\/) es un club de fútbol profesional con sede en Holloway, Londres, Inglaterra, que juega en la máxima categoría del fútbol de ese país, la Premier League. Uno de los más laureados del fútbol inglés, ha ganado 43 títulos en su país, incluyendo 13 campeonatos de liga y un récord de 13 Copas de Inglaterra; también ha ganado dos títulos internacionales: la Copa europea de Ferias en 1970 y la Recopa de Europa en 1994.\\r\\n\\r\\nFundado en 1886 en el sudeste de Londres, en 1893, se convirtió en el primer club del sur de Inglaterra en unirse a la Football League. Ganó sus primeros títulos —cinco ligas y dos FA Cups— en los años 1930. Luego de un período de escasez en los años posteriores a la Segunda Guerra Mundial, se convirtió en el segundo club del siglo XX en ganar el doblete, obteniendo el Campeonato de Liga y la FA Cup de la temporada 1970-71. Los logros siguieron en los años 1990 y 2000. Durante esos años, Arsenal ganó un doblete de copas nacionales, dos dobletes de Liga y Copa, y dos bicampeonatos de la Copa de Inglaterra. Finalizó una temporada de Liga invicto y se convirtió en el primer club de Londres en llegar a la final de la Liga de Campeones de la UEFA.\\r\\n\\r\\nLos colores tradicionales del club, el blanco y el rojo, han evolucionado con el tiempo. Del mismo modo, fue cambiando la ubicación del club; fundado en el distrito de Woolwich, en el sureste de Londres, en 1913 se mudó al norte de Londres, más exactamente en el distrito de Highbury, donde fue establecido el Arsenal Stadium, que funcionó hasta 2006, donde se hizo un traslado más corto, hacia los alrededores de Holloway, donde se levantó el actual Emirates Stadium. La estadía histórica del Arsenal en el norte de Londres, ha creado con el tiempo una fuerte rivalidad con el Tottenham Hotspur, conocida como el Derbi del Norte de Londres.4​\\r\\n\\r\\nArsenal posee una de las aficiones más numerosas del mundo.5​6​7​ Según la revista Forbes, el club fue el quinto club más valioso del mundo en 2014, con un valor de 1300 millones libras.8​\",\"strDescriptionPT\":\"Arsenal Football Club é um clube de futebol, fundado e baseado em Londres, capital da Inglaterra.\\r\\n\\r\\nO clube disputa a Premier League e é um dos mais bem sucedidos do futebol inglês, tendo ganhado por 13 vezes o título de campeão do Campeonato Inglês, sendo o terceiro em número de conquistas, e por 13 vezes a Copa da Inglaterra (recorde), sendo também detentor do recorde de maior período de invencibilidade no Campeonato Inglês e também o de ser o único a ganhar a Premier League invicto. No plano internacional, conquistou a Recopa Europeia e a Taça das Cidades com Feiras, já tendo sido finalista da Liga dos Campeões da UEFA, a principal competição europeia de clubes.\\r\\n\\r\\nO Arsenal mudou de localização ao longo do tempo, tendo sido fundado em Woolwich, sudeste de Londres, em 1913 mudou-se para o norte de Londres, para o Arsenal Stadium, em Highbury. Em 2006 foi concluída a construção do Emirates Stadium, que está localizado nas proximidades de Holloway, o que foi prometido desde 2004, após o clube fechar negócio com a Emirates Airlines, tendo capacidade para mais de 60.000 expectadores.[3]\\r\\n\\r\\nO Arsenal tem muitos torcedores por todo mundo, possuindo uma série de rivalidades de longa data com outros clubes, sendo a mais notável delas contra os vizinhos do Tottenham, com quem disputa regularmente o North London Derby, bastante intensas também contra o Chelsea e o Manchester United.[4]\\r\\n\\r\\nSuas cores têm sido tradicionalmente vermelho e branco, mas seus uniformes evoluíram ao longo da história. Um outro grande feito é o de ser um dos 5 únicos clubes do mundo que já venceram a Seleção Brasileira.[5] Já o Arsenal Ladies, é um dos clubes mais bem sucedidos do futebol feminino na Inglaterra.\",\"strDescriptionSE\":null,\"strDescriptionNL\":null,\"strDescriptionHU\":null,\"strDescriptionNO\":\"Arsenal Football Club er en engelsk fotballklubb som spiller i Premier League. Klubben ble stiftet i 1886, og ble valgt inn i The Football League i 1893. «The Gunners», som er kallenavnet til Arsenal, spiller hjemmekampene sine på Emirates Stadium i Holloway. Holloway er et sted i bydelen Islington som ligger i det nordlige London.\",\"strDescriptionIL\":null,\"strDescriptionPL\":null,\"strColour1\":\"#EF0107\",\"strColour2\":\"#fbffff\",\"strColour3\":\"#013373\",\"strGender\":\"Male\",\"strCountry\":\"England\",\"strBadge\":\"https:\\/\\/www.thesportsdb.com\\/images\\/media\\/team\\/badge\\/uyhbfe1612467038.png\",\"strLogo\":\"https:\\/\\/www.thesportsdb.com\\/images\\/media\\/team\\/logo\\/q2mxlz1512644512.png\",\"strFanart1\":\"https:\\/\\/www.thesportsdb.com\\/images\\/media\\/team\\/fanart\\/qqm9rn1731313837.jpg\",\"strFanart2\":\"https:\\/\\/www.thesportsdb.com\\/images\\/media\\/team\\/fanart\\/lk3che1731313857.jpg\",\"strFanart3\":\"https:\\/\\/www.thesportsdb.com\\/images\\/media\\/team\\/fanart\\/ddmaih1731313886.jpg\",\"strFanart4\":\"https:\\/\\/www.thesportsdb.com\\/images\\/media\\/team\\/fanart\\/2uvo8p1731313907.jpg\",\"strBanner\":\"https:\\/\\/www.thesportsdb.com\\/images\\/media\\/team\\/banner\\/24sngv1718273065.jpg\",\"strEquipment\":\"https:\\/\\/www.thesportsdb.com\\/images\\/media\\/team\\/equipment\\/wohyr81730135385.png\",\"strYoutube\":\"www.youtube.com\\/user\\/ArsenalTour\",\"strLocked\":\"unlocked\"}]}\n"
     ]
    }
   ],
   "source": [
    "download_and_extract_matches_data()"
   ]
  },
  {
   "cell_type": "code",
   "execution_count": 96,
   "metadata": {},
   "outputs": [],
   "source": [
    "import sys\n",
    "sys.path.append(src_path)"
   ]
  },
  {
   "cell_type": "code",
   "execution_count": 97,
   "metadata": {},
   "outputs": [],
   "source": [
    "import openmeteo_requests\n",
    "import requests_cache\n",
    "from retry_requests import retry\n",
    "from pathlib import Path\n",
    "import json\n",
    "import pandas as pd\n",
    "\"\"\"\n",
    "import sys\n",
    "from pathlib import Path\n",
    "\n",
    "# Add the src directory to the Python path\n",
    "sys.path.append(str(Path.cwd().parent / 'src'))\"\"\"\n",
    "\n",
    "from src.paths import RAW_DATA_weather_DIR\n",
    "\n",
    "def download_and_extract_weather_data(start_date, end_date):\n",
    "    \"\"\"Downloads hourly weather data from the Open-Meteo API and saves it as a CSV\n",
    "\n",
    "    Args:\n",
    "        start_date (str): Start date in \"YYYY-MM-DD\" format.\n",
    "        end_date (str): End date in \"YYYY-MM-DD\" format. \n",
    "\n",
    "    Returns:\n",
    "        pd.DateFrame: A DataFrame containing hourly weather data with temperature values.\n",
    "    \"\"\"\n",
    "\n",
    "    # Setup the Open-Meteo API client\n",
    "    cache_session = requests_cache.CachedSession('.cache', expire_after=3600)\n",
    "    retry_session = retry(cache_session, retries=5, backoff_factor=0.2)\n",
    "    openmeteo = openmeteo_requests.Client(session=retry_session)\n",
    "\n",
    "    # Make sure all required weather variables are listed here\n",
    "    # The order of variables in hourly or daily is important to assign them correctly below\n",
    "    url = \"https://historical-forecast-api.open-meteo.com/v1/forecast\"\n",
    "    params = {\n",
    "        \"latitude\": 52.52,\n",
    "        \"longitude\": 13.41,\n",
    "        \"start_date\": start_date,\n",
    "        \"end_date\": end_date,\n",
    "        \"hourly\": [\"temperature_2m\"],\n",
    "        \"timeformat\": \"unixtime\",\n",
    "        \"timezone\": \"Europe/London\" \n",
    "    }\n",
    "\n",
    "    try:\n",
    "        # Feth data from the Open-Meteo API\n",
    "        responses = openmeteo.weather_api(url, params=params)[0] # assuming single location\n",
    "\n",
    "        # Process metadata\n",
    "        print(f\"Coordinates: {responses.Latitude()}°N {responses.Longitude()}°E\")\n",
    "        print(f\"Elevation {responses.Elevation()} m asl\")\n",
    "        print(f\"Timezone {responses.Timezone()} {responses.TimezoneAbbreviation()}\")\n",
    "        print(f\"Timezone difference to GMT+0 {responses.UtcOffsetSeconds()} seconds\")\n",
    "        \n",
    "        # Extract hourly data\n",
    "        hourly = responses.hourly()\n",
    "        hourly_temperature_2m = hourly.Variables(0).ValuesAsNumpy()\n",
    "\n",
    "        hourly_data = {\"date\": pd.date_range(\n",
    "            start=pd.to_datetime(hourly.Time(), unit=\"s\", utc=\"True\"),\n",
    "            end = pd.to_datetime(hourly.TimeEnd(), unit = \"s\", utc=\"True\"),\n",
    "            freq = pd.Timedelta(seconds=hourly.Interval()),\n",
    "            inclusive=\"left\"\n",
    "        )}\n",
    "\n",
    "        hourly_data[\"temperature_2m\"] = hourly_temperature_2m\n",
    "\n",
    "        # Convert to DataFrame and process timestamps\n",
    "        hourly_dataframe  = pd.DataFrame(data=hourly_data)\n",
    "\n",
    "        hourly_dataframe[\"date\"] = pd.to_datetime(hourly_dataframe[\"date\"]).dt.floor(\"h\").dt.tz_localize(None)\n",
    "\n",
    "        # Save to file\n",
    "        file_path = RAW_DATA_weather_DIR/f\"weather_data_{start_date}_to{end_date}.csv\"\n",
    "        hourly_dataframe.to_csv(file_path, index=False)\n",
    "        print(f\"Weather data to saved to {file_path}\")\n",
    "\n",
    "        return hourly_dataframe\n",
    "    except Exception as e:\n",
    "        print(f\"Error downloading weather data : {e}\")\n",
    "        return pd.DataFrame()\n",
    "\n"
   ]
  },
  {
   "cell_type": "code",
   "execution_count": 98,
   "metadata": {},
   "outputs": [
    {
     "name": "stdout",
     "output_type": "stream",
     "text": [
      "Coordinates: 52.52000045776367°N 13.419998168945312°E\n",
      "Elevation 38.0 m asl\n",
      "Timezone b'Europe/London' None\n",
      "Timezone difference to GMT+0 0 seconds\n",
      "Error downloading weather data : 'WeatherApiResponse' object has no attribute 'hourly'\n"
     ]
    },
    {
     "data": {
      "text/html": [
       "<div>\n",
       "<style scoped>\n",
       "    .dataframe tbody tr th:only-of-type {\n",
       "        vertical-align: middle;\n",
       "    }\n",
       "\n",
       "    .dataframe tbody tr th {\n",
       "        vertical-align: top;\n",
       "    }\n",
       "\n",
       "    .dataframe thead th {\n",
       "        text-align: right;\n",
       "    }\n",
       "</style>\n",
       "<table border=\"1\" class=\"dataframe\">\n",
       "  <thead>\n",
       "    <tr style=\"text-align: right;\">\n",
       "      <th></th>\n",
       "    </tr>\n",
       "  </thead>\n",
       "  <tbody>\n",
       "  </tbody>\n",
       "</table>\n",
       "</div>"
      ],
      "text/plain": [
       "Empty DataFrame\n",
       "Columns: []\n",
       "Index: []"
      ]
     },
     "execution_count": 98,
     "metadata": {},
     "output_type": "execute_result"
    }
   ],
   "source": [
    "weather_data = download_and_extract_weather_data('2024-01-01', \"2024-01-07\")\n",
    "weather_data"
   ]
  },
  {
   "cell_type": "code",
   "execution_count": 91,
   "metadata": {},
   "outputs": [],
   "source": [
    "from src.paths import RAW_DATA_ticket_DIR\n",
    "import requests\n",
    "\n",
    "def download_and_extract_ticket_data(year:int, month:int, day:int):\n",
    "    url = f\"https://app.ticketmaster.com/discovery/v2/events.json?apikey={ticketmaster_api_key}\"\n",
    "\n",
    "    # Make GET Request\n",
    "    try:\n",
    "        response = requests.get(url)\n",
    "        response.raise_for_status() # Raise HTTP Error for bad responses\n",
    "\n",
    "        # Parse JSON Response\n",
    "        data = response.json()\n",
    "\n",
    "        # Save JSON File response to a file\n",
    "        file_path = RAW_DATA_ticket_DIR / f\"hourly_demand_{year}-{month:02d}-{day:02d}.json\"\n",
    "        with open(file_path, \"w\") as f:\n",
    "            json.dump(data, f, indent=4)\n",
    "\n",
    "        print(f\"Data successfully fetched and saved to {file_path}\")\n",
    "\n",
    "        # Convert the response data to a DataFrame\n",
    "        if 'response' in data and 'data' in data['response']:\n",
    "            return pd.DataFrame(data['response']['data'])\n",
    "        elif 'data' in data:\n",
    "            return pd.DataFrame(data['data'])\n",
    "        else:\n",
    "            print(\"Unexpected data structure in API response.\")\n",
    "            return pd.DataFrame()\n",
    "        \n",
    "    except requests.exceptions.RequestException as e:\n",
    "        print(f\"Error fetching data: {e}\")\n",
    "        return pd.DataFrame()\n",
    "\n",
    "\n",
    "    "
   ]
  },
  {
   "cell_type": "code",
   "execution_count": 92,
   "metadata": {},
   "outputs": [
    {
     "ename": "FileNotFoundError",
     "evalue": "[Errno 2] No such file or directory: '/Users/sanjaydevarajan/Desktop/ML Projects/PremierLeague_TicketDemand_Predictor/data/raw/ticket_raw_data/hourly_demand_2022-12-03.json'",
     "output_type": "error",
     "traceback": [
      "\u001b[0;31m---------------------------------------------------------------------------\u001b[0m",
      "\u001b[0;31mFileNotFoundError\u001b[0m                         Traceback (most recent call last)",
      "Cell \u001b[0;32mIn[92], line 1\u001b[0m\n\u001b[0;32m----> 1\u001b[0m download_and_extract_ticket_data(\u001b[38;5;241m2022\u001b[39m, \u001b[38;5;241m12\u001b[39m, \u001b[38;5;241m3\u001b[39m)\n",
      "Cell \u001b[0;32mIn[91], line 17\u001b[0m, in \u001b[0;36mdownload_and_extract_ticket_data\u001b[0;34m(year, month, day)\u001b[0m\n\u001b[1;32m     15\u001b[0m \u001b[38;5;66;03m# Save JSON File response to a file\u001b[39;00m\n\u001b[1;32m     16\u001b[0m file_path \u001b[38;5;241m=\u001b[39m RAW_DATA_ticket_DIR \u001b[38;5;241m/\u001b[39m \u001b[38;5;124mf\u001b[39m\u001b[38;5;124m\"\u001b[39m\u001b[38;5;124mhourly_demand_\u001b[39m\u001b[38;5;132;01m{\u001b[39;00myear\u001b[38;5;132;01m}\u001b[39;00m\u001b[38;5;124m-\u001b[39m\u001b[38;5;132;01m{\u001b[39;00mmonth\u001b[38;5;132;01m:\u001b[39;00m\u001b[38;5;124m02d\u001b[39m\u001b[38;5;132;01m}\u001b[39;00m\u001b[38;5;124m-\u001b[39m\u001b[38;5;132;01m{\u001b[39;00mday\u001b[38;5;132;01m:\u001b[39;00m\u001b[38;5;124m02d\u001b[39m\u001b[38;5;132;01m}\u001b[39;00m\u001b[38;5;124m.json\u001b[39m\u001b[38;5;124m\"\u001b[39m\n\u001b[0;32m---> 17\u001b[0m \u001b[38;5;28;01mwith\u001b[39;00m \u001b[38;5;28mopen\u001b[39m(file_path, \u001b[38;5;124m\"\u001b[39m\u001b[38;5;124mw\u001b[39m\u001b[38;5;124m\"\u001b[39m) \u001b[38;5;28;01mas\u001b[39;00m f:\n\u001b[1;32m     18\u001b[0m     json\u001b[38;5;241m.\u001b[39mdump(data, f, indent\u001b[38;5;241m=\u001b[39m\u001b[38;5;241m4\u001b[39m)\n\u001b[1;32m     20\u001b[0m \u001b[38;5;28mprint\u001b[39m(\u001b[38;5;124mf\u001b[39m\u001b[38;5;124m\"\u001b[39m\u001b[38;5;124mData successfully fetched and saved to \u001b[39m\u001b[38;5;132;01m{\u001b[39;00mfile_path\u001b[38;5;132;01m}\u001b[39;00m\u001b[38;5;124m\"\u001b[39m)\n",
      "File \u001b[0;32m~/anaconda3/lib/python3.11/site-packages/IPython/core/interactiveshell.py:286\u001b[0m, in \u001b[0;36m_modified_open\u001b[0;34m(file, *args, **kwargs)\u001b[0m\n\u001b[1;32m    279\u001b[0m \u001b[38;5;28;01mif\u001b[39;00m file \u001b[38;5;129;01min\u001b[39;00m {\u001b[38;5;241m0\u001b[39m, \u001b[38;5;241m1\u001b[39m, \u001b[38;5;241m2\u001b[39m}:\n\u001b[1;32m    280\u001b[0m     \u001b[38;5;28;01mraise\u001b[39;00m \u001b[38;5;167;01mValueError\u001b[39;00m(\n\u001b[1;32m    281\u001b[0m         \u001b[38;5;124mf\u001b[39m\u001b[38;5;124m\"\u001b[39m\u001b[38;5;124mIPython won\u001b[39m\u001b[38;5;124m'\u001b[39m\u001b[38;5;124mt let you open fd=\u001b[39m\u001b[38;5;132;01m{\u001b[39;00mfile\u001b[38;5;132;01m}\u001b[39;00m\u001b[38;5;124m by default \u001b[39m\u001b[38;5;124m\"\u001b[39m\n\u001b[1;32m    282\u001b[0m         \u001b[38;5;124m\"\u001b[39m\u001b[38;5;124mas it is likely to crash IPython. If you know what you are doing, \u001b[39m\u001b[38;5;124m\"\u001b[39m\n\u001b[1;32m    283\u001b[0m         \u001b[38;5;124m\"\u001b[39m\u001b[38;5;124myou can use builtins\u001b[39m\u001b[38;5;124m'\u001b[39m\u001b[38;5;124m open.\u001b[39m\u001b[38;5;124m\"\u001b[39m\n\u001b[1;32m    284\u001b[0m     )\n\u001b[0;32m--> 286\u001b[0m \u001b[38;5;28;01mreturn\u001b[39;00m io_open(file, \u001b[38;5;241m*\u001b[39margs, \u001b[38;5;241m*\u001b[39m\u001b[38;5;241m*\u001b[39mkwargs)\n",
      "\u001b[0;31mFileNotFoundError\u001b[0m: [Errno 2] No such file or directory: '/Users/sanjaydevarajan/Desktop/ML Projects/PremierLeague_TicketDemand_Predictor/data/raw/ticket_raw_data/hourly_demand_2022-12-03.json'"
     ]
    }
   ],
   "source": [
    "download_and_extract_ticket_data(2022, 12, 3)"
   ]
  },
  {
   "cell_type": "code",
   "execution_count": 90,
   "metadata": {},
   "outputs": [
    {
     "data": {
      "text/plain": [
       "{'_embedded': {'venues': [{'name': 'Old Trafford',\n",
       "    'type': 'venue',\n",
       "    'id': 'ZfqgVMyxjZBYPywzgVMyZa',\n",
       "    'test': False,\n",
       "    'url': 'https://www.eticketing.co.uk/tmsport',\n",
       "    'locale': 'en-us',\n",
       "    'timezone': 'Europe/London',\n",
       "    'country': {'name': 'United Kingdom', 'countryCode': 'GB'},\n",
       "    'upcomingEvents': {'_total': 0, '_filtered': 0},\n",
       "    '_links': {'self': {'href': '/discovery/v2/venues/ZfqgVMyxjZBYPywzgVMyZa?locale=en-us'}}},\n",
       "   {'name': 'Old Trafford Football Stadium',\n",
       "    'type': 'venue',\n",
       "    'id': 'Z598xZL4Z1FeF',\n",
       "    'test': False,\n",
       "    'url': 'https://www.ticketweb.co.uk/venue/old-trafford-football-stadium-manchester-tickets/oldtrafpih/901',\n",
       "    'locale': 'en-us',\n",
       "    'postalCode': 'M160RA',\n",
       "    'timezone': 'Europe/London',\n",
       "    'city': {'name': 'Manchester'},\n",
       "    'country': {'name': 'United Kingdom', 'countryCode': 'GB'},\n",
       "    'address': {'line1': 'Sir Matt Busby Way, Old Trafford'},\n",
       "    'location': {'longitude': '-2.28834', 'latitude': '53.46179'},\n",
       "    'upcomingEvents': {'_total': 0, '_filtered': 0},\n",
       "    '_links': {'self': {'href': '/discovery/v2/venues/Z598xZL4Z1FeF?locale=en-us'}}},\n",
       "   {'name': 'Old Trafford Cricket Ground',\n",
       "    'type': 'venue',\n",
       "    'id': 'ZFr9jZFkF6',\n",
       "    'test': False,\n",
       "    'locale': 'en-us',\n",
       "    'postalCode': 'M16 0PX',\n",
       "    'timezone': 'Etc/GMT',\n",
       "    'city': {'name': 'Manchester'},\n",
       "    'state': {'name': 'Manchester', 'stateCode': 'MAN'},\n",
       "    'country': {'name': 'United Kingdom', 'countryCode': 'UK'},\n",
       "    'address': {'line1': 'Talbot Road', 'line2': 'Old Trafford, Manchester'},\n",
       "    'location': {'longitude': '0', 'latitude': '0'},\n",
       "    'upcomingEvents': {'_total': 0, '_filtered': 0},\n",
       "    '_links': {'self': {'href': '/discovery/v2/venues/ZFr9jZFkF6?locale=en-us'}}},\n",
       "   {'name': 'Old Trafford Football Ground',\n",
       "    'type': 'venue',\n",
       "    'id': 'ZFr9jZddFa',\n",
       "    'test': False,\n",
       "    'locale': 'en-us',\n",
       "    'postalCode': 'M16 0RA',\n",
       "    'timezone': 'Etc/GMT',\n",
       "    'city': {'name': 'Manchester'},\n",
       "    'state': {'name': 'Lancashire', 'stateCode': 'L'},\n",
       "    'country': {'name': 'United Kingdom', 'countryCode': 'UK'},\n",
       "    'address': {'line1': 'Sir Matt Busby Lane',\n",
       "     'line2': 'Manchester, England'},\n",
       "    'location': {'longitude': '0', 'latitude': '0'},\n",
       "    'upcomingEvents': {'_total': 0, '_filtered': 0},\n",
       "    '_links': {'self': {'href': '/discovery/v2/venues/ZFr9jZddFa?locale=en-us'}}},\n",
       "   {'name': 'Emirates Old Trafford',\n",
       "    'type': 'venue',\n",
       "    'id': 'KovZpZAnFtvA',\n",
       "    'test': False,\n",
       "    'url': 'https://www.ticketmaster.co.uk/emirates-old-trafford-tickets-manchester/venue/255154',\n",
       "    'locale': 'en-de',\n",
       "    'postalCode': 'M16 0PX',\n",
       "    'timezone': 'Europe/London',\n",
       "    'city': {'name': 'Manchester'},\n",
       "    'country': {'name': 'Great Britain', 'countryCode': 'GB'},\n",
       "    'address': {'line1': 'Lancashire County Cricket Club',\n",
       "     'line2': 'Old Trafford'},\n",
       "    'location': {'longitude': '-2.28735100', 'latitude': '53.45722400'},\n",
       "    'markets': [{'name': 'All of United Kingdom', 'id': '201'},\n",
       "     {'name': 'Wales and North West', 'id': '205'}],\n",
       "    'dmas': [{'id': 601}, {'id': 605}],\n",
       "    'upcomingEvents': {'_total': 0, '_filtered': 0},\n",
       "    'ada': {'adaPhones': 'If you have already purchased tickets and need further assistance, please copy and paste the link below. \\nhttps://help.ticketmaster.co.uk/hc/en-us/articles/360017761298-How-to-Contact-Us (copy to browser) \\nIf you have any specific requirements/questions prior to booking, please copy and paste the link below. (please note all requests are subject to availability). \\nhttps://help.ticketmaster.co.uk/hc/en-us/requests/new?ticket_form_id=13379379018129 (copy to browser)\\n',\n",
       "     'adaCustomCopy': \"Please note all Accessible tickets for the Foo Fighters have now been sold.\\n\\n\\nGreen Day 2024\\nAccessible Tickets available online at Ticketmaster & can be viewed and purchased by checking 'All Ticket Types' on the event page. \\nPlease read the below information before purchasing your ticket(s).\\n\\nACCESSIBLE VIEWING PLATFORM - Change Ticket Quantity to 1 Wheelchair Ticket Then add the 1 Free Essential Companion Ticket (the Free Companion ticket, must be added along with the paid wheelchair ticket) \\nAccessible Viewing Platform tickets gain entry to the dedicated viewing platform which has ample wheelchair space and/or seats for accessible customers and their 1 x carer. The viewing platform has a set capacity. We anticipate all ticket types to sell extremely quickly for this event. You must select a companion ticket separately, there will be no extra cost for this, pending proof of disability being provided post booking.\\n\\nACCESSIBLE SEATING (no wheelchair access): - Change the Ticket Quantity to 1 Ambulant Then add the 1 Free Essential Companion Ticket (not valid without accompanied paid ticket and must be added at the time of booking). \\nSeating (for access customers) - please note these tickets are reserved seats in Block CL4 or E6. There are minimal stairs to access the seats. You must select a companion ticket separately, there will be no extra cost for this, pending proof of disability being provided post booking.\\n\\nACCESSIBLE STANDING TICKETS\\nAccessible Standing Tickets (for access customers only) - please note these tickets gain entry to pitch standing and/or unreserved seats in blocks A&B only (the seating area is not guaranteed and operates on a first come first served basis). You must select a companion ticket separately, there will be no extra cost for this, pending proof of disability being provided post booking.\\n\\n\",\n",
       "     'adaHours': 'Event specific please see above \\n'},\n",
       "    '_links': {'self': {'href': '/discovery/v2/venues/KovZpZAnFtvA?locale=en-de'}}},\n",
       "   {'name': 'Old Trafford Football Stadium',\n",
       "    'type': 'venue',\n",
       "    'id': 'KovZ9177N6f',\n",
       "    'test': False,\n",
       "    'url': 'https://www.ticketmaster.co.uk/old-trafford-football-stadium-tickets-manchester/venue/435249',\n",
       "    'locale': 'en-de',\n",
       "    'postalCode': 'M16 0RA',\n",
       "    'timezone': 'Europe/London',\n",
       "    'city': {'name': 'Manchester'},\n",
       "    'country': {'name': 'Great Britain', 'countryCode': 'GB'},\n",
       "    'address': {'line1': 'Sir Matt Busby Way'},\n",
       "    'location': {'longitude': '-2.28827000', 'latitude': '53.46165800'},\n",
       "    'markets': [{'name': 'All of United Kingdom', 'id': '201'}],\n",
       "    'dmas': [{'id': 601}],\n",
       "    'upcomingEvents': {'_total': 0, '_filtered': 0},\n",
       "    'ada': {'adaPhones': '000000000000',\n",
       "     'adaCustomCopy': '\"To better accommodate your needs, the venue have requested that all accessible queries and bookings be made via them directly. \\nPlease visit the website below for further help: https://www.manutd.com/en (copy and paste into your browser)\"',\n",
       "     'adaHours': '000000000000'},\n",
       "    '_links': {'self': {'href': '/discovery/v2/venues/KovZ9177N6f?locale=en-de'}}},\n",
       "   {'name': 'Emirates Old Trafford - Foo Fighters',\n",
       "    'type': 'venue',\n",
       "    'id': 'KovZ9177VP7',\n",
       "    'test': False,\n",
       "    'url': 'https://www.ticketmaster.co.uk/emirates-old-trafford-foo-fighters-tickets-manchester/venue/450715',\n",
       "    'locale': 'en-de',\n",
       "    'postalCode': 'M16 0PX',\n",
       "    'timezone': 'Europe/London',\n",
       "    'city': {'name': 'Manchester'},\n",
       "    'country': {'name': 'Great Britain', 'countryCode': 'GB'},\n",
       "    'address': {'line1': 'Emirates Old Trafford.',\n",
       "     'line2': 'Lancashire County Cricket Club, Old Trafford'},\n",
       "    'location': {'longitude': '-2.28735100', 'latitude': '53.45722400'},\n",
       "    'markets': [{'name': 'All of United Kingdom', 'id': '201'}],\n",
       "    'dmas': [{'id': 601}],\n",
       "    'upcomingEvents': {'_total': 0, '_filtered': 0},\n",
       "    'ada': {'adaPhones': '0800 640 5001\\n\\n',\n",
       "     'adaCustomCopy': 'Foo Fighters\\n\\nAccessible ticketing is being handled by The Ticket Factory.\\n\\nhttps://www.theticketfactory.com/tickets/events/foo-fighters/\\n',\n",
       "     'adaHours': '09:00-17:00'},\n",
       "    '_links': {'self': {'href': '/discovery/v2/venues/KovZ9177VP7?locale=en-de'}}}]},\n",
       " '_links': {'self': {'href': '/discovery/v2/venues.json?keyword=Old+Trafford'}},\n",
       " 'page': {'size': 20, 'totalElements': 7, 'totalPages': 1, 'number': 0}}"
      ]
     },
     "execution_count": 90,
     "metadata": {},
     "output_type": "execute_result"
    }
   ],
   "source": [
    "requests_api = requests.get(f\"https://app.ticketmaster.com/discovery/v2/venues.json?keyword=Old+Trafford&apikey={ticketmaster_api_key}\")\n",
    "requests_api.status_code\n",
    "data = requests_api.text\n",
    "\n",
    "json.loads(data)"
   ]
  },
  {
   "cell_type": "code",
   "execution_count": 93,
   "metadata": {},
   "outputs": [],
   "source": [
    "def merge_data(df1, df2):\n",
    "    new_df = pd.merge(df1, df2, on=\"date\", how=\"inner\")\n",
    "    return new_df\n",
    "\n"
   ]
  },
  {
   "cell_type": "code",
   "execution_count": null,
   "metadata": {},
   "outputs": [],
   "source": [
    "# Here merge all the dataframes, after extracting the data functions"
   ]
  },
  {
   "cell_type": "code",
   "execution_count": null,
   "metadata": {},
   "outputs": [],
   "source": [
    "from sklearn.preprocessing import LabelEncoder\n",
    "\n",
    "label_encoder = LabelEncoder()\n"
   ]
  }
 ],
 "metadata": {
  "kernelspec": {
   "display_name": "base",
   "language": "python",
   "name": "python3"
  },
  "language_info": {
   "codemirror_mode": {
    "name": "ipython",
    "version": 3
   },
   "file_extension": ".py",
   "mimetype": "text/x-python",
   "name": "python",
   "nbconvert_exporter": "python",
   "pygments_lexer": "ipython3",
   "version": "3.11.5"
  }
 },
 "nbformat": 4,
 "nbformat_minor": 2
}
