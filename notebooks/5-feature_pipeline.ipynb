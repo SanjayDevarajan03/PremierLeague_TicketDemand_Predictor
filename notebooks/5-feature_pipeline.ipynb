{
 "cells": [
  {
   "cell_type": "code",
   "execution_count": 2,
   "metadata": {},
   "outputs": [],
   "source": [
    "import sys\n",
    "import os\n",
    "\n",
    "src_path = os.environ[\"src_path\"]\n",
    "sys.path.append(src_path)"
   ]
  },
  {
   "cell_type": "code",
   "execution_count": 4,
   "metadata": {},
   "outputs": [
    {
     "name": "stdout",
     "output_type": "stream",
     "text": [
      "current_date=Timestamp('2025-03-12 18:00:00+0000', tz='UTC')\n"
     ]
    }
   ],
   "source": [
    "from src.components.data_info import *\n",
    "from datetime import datetime, timedelta\n",
    "\n",
    "# specify the current time\n",
    "current_date = pd.to_datetime(datetime.utcnow(), utc=True).floor('h')\n",
    "print(f'{current_date=}')\n",
    "\n",
    "# we fetch raw data for the last 28 days, to add redundancy to our data pipeline\n",
    "fetch_data_to = current_date\n",
    "fetch_data_from = current_date - timedelta(days=90) #it should only fetch for the last hour but because we dont want the pipline to break in case this data or the provois our was not availble so thats why we added for the entier month\n",
    "fetch_data_from = pd.Tiemstamp(year=fetch_data_from.year, month=fetch_data_from.month, day=1, tz='UTC')\n",
    "print(fetch_data_to, fetch_data_from)"
   ]
  },
  {
   "cell_type": "code",
   "execution_count": 5,
   "metadata": {},
   "outputs": [],
   "source": [
    "# fetch batch of data from the warehouse\n",
    "def fetch_batch_raw_data(from_date: datetime, to_date: datetime) -> pd.DataFrame:\n",
    "    \"\"\"\n",
    "    Simulate production data by sampling historical data from 52 weeks ago (i.e. 1 year)\n",
    "    \"\"\"\n",
    "    from_date_ = from_date - timedelta(days=7*52)\n",
    "    to_date_ = to_date - timedelta(days=7*52)\n",
    "    print(f'{from_date=}, {to_date=}')\n",
    "\n",
    "    # download 2 files from website\n",
    "    demand_values = load_full_data(from_date_, to_date_)\n",
    "    demand_values = demand_values[(demand_values.date >= from_date_) & (demand_values.date <= to_date_)]\n",
    "\n",
    "    # shift the data to pretend this is recent data\n",
    "    demand_values['date'] += timedelta(days=7*52)\n",
    "\n",
    "    demand_values.sort_values(by=['sub_region_code', 'date'], inplace=True)\n",
    "\n",
    "    return demand_values\n"
   ]
  },
  {
   "cell_type": "code",
   "execution_count": null,
   "metadata": {},
   "outputs": [],
   "source": [
    "data = fetch_batch_raw_data(fetch_data_from, fetch_data_to)"
   ]
  },
  {
   "cell_type": "code",
   "execution_count": null,
   "metadata": {},
   "outputs": [],
   "source": [
    "# string to datetime\n",
    "data['date'] = pd.to_datetime(['date'], utc=True)\n",
    "\n",
    "# add column with Unix epoch milliseconds\n",
    "data['seconds'] = data['date'].astype('int64') // 10**6"
   ]
  },
  {
   "cell_type": "code",
   "execution_count": null,
   "metadata": {},
   "outputs": [],
   "source": [
    "data.isna().sum()"
   ]
  },
  {
   "cell_type": "code",
   "execution_count": null,
   "metadata": {},
   "outputs": [],
   "source": [
    "data.tail()"
   ]
  },
  {
   "cell_type": "code",
   "execution_count": 7,
   "metadata": {},
   "outputs": [
    {
     "name": "stdout",
     "output_type": "stream",
     "text": [
      "Collecting hopsworks\n",
      "  Using cached hopsworks-4.1.8-py3-none-any.whl.metadata (11 kB)\n",
      "Collecting pyhumps==1.6.1 (from hopsworks)\n",
      "  Using cached pyhumps-1.6.1-py3-none-any.whl.metadata (3.7 kB)\n",
      "Requirement already satisfied: requests in /Users/sanjaydevarajan/anaconda3/lib/python3.11/site-packages (from hopsworks) (2.31.0)\n",
      "Collecting furl (from hopsworks)\n",
      "  Downloading furl-2.1.4-py2.py3-none-any.whl.metadata (25 kB)\n",
      "Collecting boto3 (from hopsworks)\n",
      "  Downloading boto3-1.37.11-py3-none-any.whl.metadata (6.7 kB)\n",
      "Collecting pandas<2.2.0 (from hopsworks)\n",
      "  Downloading pandas-2.1.4-cp311-cp311-macosx_11_0_arm64.whl.metadata (18 kB)\n",
      "Collecting pyjks (from hopsworks)\n",
      "  Using cached pyjks-20.0.0-py2.py3-none-any.whl.metadata (1.7 kB)\n",
      "Collecting mock (from hopsworks)\n",
      "  Using cached mock-5.2.0-py3-none-any.whl.metadata (3.1 kB)\n",
      "Collecting avro==1.11.3 (from hopsworks)\n",
      "  Using cached avro-1.11.3.tar.gz (90 kB)\n",
      "  Installing build dependencies ... \u001b[?25ldone\n",
      "\u001b[?25h  Getting requirements to build wheel ... \u001b[?25ldone\n",
      "\u001b[?25h  Preparing metadata (pyproject.toml) ... \u001b[?25ldone\n",
      "\u001b[?25hRequirement already satisfied: sqlalchemy in /Users/sanjaydevarajan/anaconda3/lib/python3.11/site-packages (from hopsworks) (2.0.28)\n",
      "Collecting PyMySQL[rsa] (from hopsworks)\n",
      "  Using cached PyMySQL-1.1.1-py3-none-any.whl.metadata (4.4 kB)\n",
      "Requirement already satisfied: tzlocal in /Users/sanjaydevarajan/anaconda3/lib/python3.11/site-packages (from hopsworks) (5.2)\n",
      "Requirement already satisfied: fsspec in /Users/sanjaydevarajan/anaconda3/lib/python3.11/site-packages (from hopsworks) (2023.10.0)\n",
      "Collecting retrying (from hopsworks)\n",
      "  Using cached retrying-1.3.4-py3-none-any.whl.metadata (6.9 kB)\n",
      "Collecting hopsworks_aiomysql==0.2.1 (from hopsworks_aiomysql[sa]==0.2.1->hopsworks)\n",
      "  Using cached hopsworks_aiomysql-0.2.1-py3-none-any.whl.metadata (11 kB)\n",
      "Collecting opensearch-py<=2.4.2,>=1.1.0 (from hopsworks)\n",
      "  Using cached opensearch_py-2.4.2-py2.py3-none-any.whl.metadata (6.8 kB)\n",
      "Requirement already satisfied: tqdm in /Users/sanjaydevarajan/anaconda3/lib/python3.11/site-packages (from hopsworks) (4.66.2)\n",
      "Collecting grpcio<2.0.0,>=1.49.1 (from hopsworks)\n",
      "  Downloading grpcio-1.71.0-cp311-cp311-macosx_10_14_universal2.whl.metadata (3.8 kB)\n",
      "Collecting protobuf<5.0.0,>=4.25.4 (from hopsworks)\n",
      "  Using cached protobuf-4.25.6-cp37-abi3-macosx_10_9_universal2.whl.metadata (541 bytes)\n",
      "Requirement already satisfied: packaging in /Users/sanjaydevarajan/anaconda3/lib/python3.11/site-packages (from hopsworks) (24.2)\n",
      "Requirement already satisfied: urllib3>=1.26.18 in /Users/sanjaydevarajan/anaconda3/lib/python3.11/site-packages (from opensearch-py<=2.4.2,>=1.1.0->hopsworks) (1.26.20)\n",
      "Requirement already satisfied: six in /Users/sanjaydevarajan/anaconda3/lib/python3.11/site-packages (from opensearch-py<=2.4.2,>=1.1.0->hopsworks) (1.16.0)\n",
      "Requirement already satisfied: python-dateutil in /Users/sanjaydevarajan/anaconda3/lib/python3.11/site-packages (from opensearch-py<=2.4.2,>=1.1.0->hopsworks) (2.8.2)\n",
      "Requirement already satisfied: certifi>=2022.12.07 in /Users/sanjaydevarajan/anaconda3/lib/python3.11/site-packages (from opensearch-py<=2.4.2,>=1.1.0->hopsworks) (2024.2.2)\n",
      "Requirement already satisfied: numpy<2,>=1.23.2 in /Users/sanjaydevarajan/anaconda3/lib/python3.11/site-packages (from pandas<2.2.0->hopsworks) (1.26.4)\n",
      "Requirement already satisfied: pytz>=2020.1 in /Users/sanjaydevarajan/anaconda3/lib/python3.11/site-packages (from pandas<2.2.0->hopsworks) (2024.1)\n",
      "Requirement already satisfied: tzdata>=2022.1 in /Users/sanjaydevarajan/anaconda3/lib/python3.11/site-packages (from pandas<2.2.0->hopsworks) (2024.1)\n",
      "Requirement already satisfied: charset-normalizer<4,>=2 in /Users/sanjaydevarajan/anaconda3/lib/python3.11/site-packages (from requests->hopsworks) (3.3.2)\n",
      "Requirement already satisfied: idna<4,>=2.5 in /Users/sanjaydevarajan/anaconda3/lib/python3.11/site-packages (from requests->hopsworks) (3.6)\n",
      "Requirement already satisfied: typing-extensions>=4.6.0 in /Users/sanjaydevarajan/anaconda3/lib/python3.11/site-packages (from sqlalchemy->hopsworks) (4.12.2)\n",
      "Collecting botocore<1.38.0,>=1.37.11 (from boto3->hopsworks)\n",
      "  Downloading botocore-1.37.11-py3-none-any.whl.metadata (5.7 kB)\n",
      "Requirement already satisfied: jmespath<2.0.0,>=0.7.1 in /Users/sanjaydevarajan/anaconda3/lib/python3.11/site-packages (from boto3->hopsworks) (0.10.0)\n",
      "Collecting s3transfer<0.12.0,>=0.11.0 (from boto3->hopsworks)\n",
      "  Using cached s3transfer-0.11.4-py3-none-any.whl.metadata (1.7 kB)\n",
      "Collecting orderedmultidict>=1.0.1 (from furl->hopsworks)\n",
      "  Using cached orderedmultidict-1.0.1-py2.py3-none-any.whl.metadata (1.3 kB)\n",
      "Collecting javaobj-py3 (from pyjks->hopsworks)\n",
      "  Using cached javaobj_py3-0.4.4-py2.py3-none-any.whl.metadata (17 kB)\n",
      "Requirement already satisfied: pyasn1>=0.3.5 in /Users/sanjaydevarajan/anaconda3/lib/python3.11/site-packages (from pyjks->hopsworks) (0.4.8)\n",
      "Requirement already satisfied: pyasn1-modules in /Users/sanjaydevarajan/anaconda3/lib/python3.11/site-packages (from pyjks->hopsworks) (0.2.8)\n",
      "Collecting pycryptodomex (from pyjks->hopsworks)\n",
      "  Using cached pycryptodomex-3.21.0-cp36-abi3-macosx_10_9_universal2.whl.metadata (3.4 kB)\n",
      "Collecting twofish (from pyjks->hopsworks)\n",
      "  Using cached twofish-0.3.0.tar.gz (26 kB)\n",
      "  Preparing metadata (setup.py) ... \u001b[?25ldone\n",
      "\u001b[?25hRequirement already satisfied: cryptography in /Users/sanjaydevarajan/anaconda3/lib/python3.11/site-packages (from PyMySQL[rsa]->hopsworks) (41.0.3)\n",
      "Requirement already satisfied: cffi>=1.12 in /Users/sanjaydevarajan/anaconda3/lib/python3.11/site-packages (from cryptography->PyMySQL[rsa]->hopsworks) (1.17.1)\n",
      "Requirement already satisfied: pycparser in /Users/sanjaydevarajan/anaconda3/lib/python3.11/site-packages (from cffi>=1.12->cryptography->PyMySQL[rsa]->hopsworks) (2.21)\n",
      "Using cached hopsworks-4.1.8-py3-none-any.whl (646 kB)\n",
      "Using cached hopsworks_aiomysql-0.2.1-py3-none-any.whl (44 kB)\n",
      "Using cached pyhumps-1.6.1-py3-none-any.whl (5.0 kB)\n",
      "Downloading grpcio-1.71.0-cp311-cp311-macosx_10_14_universal2.whl (11.3 MB)\n",
      "\u001b[2K   \u001b[90m━━━━━━━━━━━━━━━━━━━━━━━━━━━━━━━━━━━━━━━━\u001b[0m \u001b[32m11.3/11.3 MB\u001b[0m \u001b[31m36.8 MB/s\u001b[0m eta \u001b[36m0:00:00\u001b[0m \u001b[36m0:00:01\u001b[0m\n",
      "\u001b[?25hUsing cached opensearch_py-2.4.2-py2.py3-none-any.whl (258 kB)\n",
      "Downloading pandas-2.1.4-cp311-cp311-macosx_11_0_arm64.whl (10.8 MB)\n",
      "\u001b[2K   \u001b[90m━━━━━━━━━━━━━━━━━━━━━━━━━━━━━━━━━━━━━━━━\u001b[0m \u001b[32m10.8/10.8 MB\u001b[0m \u001b[31m26.5 MB/s\u001b[0m eta \u001b[36m0:00:00\u001b[0m \u001b[36m0:00:01\u001b[0m\n",
      "\u001b[?25hUsing cached protobuf-4.25.6-cp37-abi3-macosx_10_9_universal2.whl (394 kB)\n",
      "Downloading boto3-1.37.11-py3-none-any.whl (139 kB)\n",
      "Downloading furl-2.1.4-py2.py3-none-any.whl (27 kB)\n",
      "Using cached mock-5.2.0-py3-none-any.whl (31 kB)\n",
      "Using cached pyjks-20.0.0-py2.py3-none-any.whl (45 kB)\n",
      "Using cached retrying-1.3.4-py3-none-any.whl (11 kB)\n",
      "Downloading botocore-1.37.11-py3-none-any.whl (13.4 MB)\n",
      "\u001b[2K   \u001b[90m━━━━━━━━━━━━━━━━━━━━━━━━━━━━━━━━━━━━━━━━\u001b[0m \u001b[32m13.4/13.4 MB\u001b[0m \u001b[31m22.8 MB/s\u001b[0m eta \u001b[36m0:00:00\u001b[0m \u001b[36m0:00:01\u001b[0m\n",
      "\u001b[?25hUsing cached orderedmultidict-1.0.1-py2.py3-none-any.whl (11 kB)\n",
      "Using cached PyMySQL-1.1.1-py3-none-any.whl (44 kB)\n",
      "Using cached s3transfer-0.11.4-py3-none-any.whl (84 kB)\n",
      "Using cached javaobj_py3-0.4.4-py2.py3-none-any.whl (57 kB)\n",
      "Using cached pycryptodomex-3.21.0-cp36-abi3-macosx_10_9_universal2.whl (2.5 MB)\n",
      "Building wheels for collected packages: avro, twofish\n",
      "  Building wheel for avro (pyproject.toml) ... \u001b[?25ldone\n",
      "\u001b[?25h  Created wheel for avro: filename=avro-1.11.3-py2.py3-none-any.whl size=123913 sha256=12c9190c66542c51838e432f5b5beced95612a7d4a748cbc86ef875f1a93cc34\n",
      "  Stored in directory: /Users/sanjaydevarajan/Library/Caches/pip/wheels/a8/7c/a4/fa31e47be300f6e6036f57769474de0ba54f8c6e8e2d8b7547\n",
      "  Building wheel for twofish (setup.py) ... \u001b[?25ldone\n",
      "\u001b[?25h  Created wheel for twofish: filename=twofish-0.3.0-cp311-cp311-macosx_11_0_arm64.whl size=10236 sha256=bf8663ebaae3059f9f81ff37b7925f33977c1659b8ca83111d1b5d96695adb06\n",
      "  Stored in directory: /Users/sanjaydevarajan/Library/Caches/pip/wheels/4f/0b/b1/d97875c8e719f4a31f39c3ea718798318be32cf0068b042351\n",
      "Successfully built avro twofish\n",
      "Installing collected packages: twofish, pyhumps, javaobj-py3, retrying, PyMySQL, pycryptodomex, protobuf, orderedmultidict, mock, grpcio, avro, pyjks, pandas, opensearch-py, hopsworks_aiomysql, furl, botocore, s3transfer, boto3, hopsworks\n",
      "  Attempting uninstall: protobuf\n",
      "    Found existing installation: protobuf 4.25.3\n",
      "    Uninstalling protobuf-4.25.3:\n",
      "      Successfully uninstalled protobuf-4.25.3\n",
      "  Attempting uninstall: pandas\n",
      "    Found existing installation: pandas 2.2.3\n",
      "    Uninstalling pandas-2.2.3:\n",
      "      Successfully uninstalled pandas-2.2.3\n",
      "  Attempting uninstall: botocore\n",
      "    Found existing installation: botocore 1.29.76\n",
      "    Uninstalling botocore-1.29.76:\n",
      "      Successfully uninstalled botocore-1.29.76\n",
      "\u001b[31mERROR: pip's dependency resolver does not currently take into account all the packages that are installed. This behaviour is the source of the following dependency conflicts.\n",
      "aiobotocore 2.5.0 requires botocore<1.29.77,>=1.29.76, but you have botocore 1.37.11 which is incompatible.\n",
      "streamlit 1.31.1 requires packaging<24,>=16.8, but you have packaging 24.2 which is incompatible.\u001b[0m\u001b[31m\n",
      "\u001b[0mSuccessfully installed PyMySQL-1.1.1 avro-1.11.3 boto3-1.37.11 botocore-1.37.11 furl-2.1.4 grpcio-1.71.0 hopsworks-4.1.8 hopsworks_aiomysql-0.2.1 javaobj-py3-0.4.4 mock-5.2.0 opensearch-py-2.4.2 orderedmultidict-1.0.1 pandas-2.1.4 protobuf-4.25.6 pycryptodomex-3.21.0 pyhumps-1.6.1 pyjks-20.0.0 retrying-1.3.4 s3transfer-0.11.4 twofish-0.3.0\n",
      "Note: you may need to restart the kernel to use updated packages.\n"
     ]
    },
    {
     "ename": "TypeError",
     "evalue": "FeatureGroupConfig.__init__() got an unexpected keyword argument 'event_date'",
     "output_type": "error",
     "traceback": [
      "\u001b[0;31m---------------------------------------------------------------------------\u001b[0m",
      "\u001b[0;31mTypeError\u001b[0m                                 Traceback (most recent call last)",
      "Cell \u001b[0;32mIn[7], line 5\u001b[0m\n\u001b[1;32m      2\u001b[0m get_ipython()\u001b[38;5;241m.\u001b[39mrun_line_magic(\u001b[38;5;124m'\u001b[39m\u001b[38;5;124mpip\u001b[39m\u001b[38;5;124m'\u001b[39m, \u001b[38;5;124m'\u001b[39m\u001b[38;5;124minstall hopsworks\u001b[39m\u001b[38;5;124m'\u001b[39m)\n\u001b[1;32m      4\u001b[0m \u001b[38;5;28;01mimport\u001b[39;00m \u001b[38;5;21;01mhopsworks\u001b[39;00m\n\u001b[0;32m----> 5\u001b[0m \u001b[38;5;28;01mfrom\u001b[39;00m \u001b[38;5;21;01msrc\u001b[39;00m\u001b[38;5;21;01m.\u001b[39;00m\u001b[38;5;21;01mcomponents\u001b[39;00m \u001b[38;5;28;01mimport\u001b[39;00m feature_group_config\n",
      "File \u001b[0;32m~/Desktop/ML Projects/PremierLeague_TicketDemand_Predictor/src/components/feature_group_config.py:15\u001b[0m\n\u001b[1;32m     12\u001b[0m \u001b[38;5;28;01mexcept\u001b[39;00m:\n\u001b[1;32m     13\u001b[0m     \u001b[38;5;28;01mraise\u001b[39;00m \u001b[38;5;167;01mException\u001b[39;00m(\u001b[38;5;124m'\u001b[39m\u001b[38;5;124mCreate an .env file in the project root and enter the HOPSWORKS_PROJECT_NAME and HOPSWORKS_API_KEY\u001b[39m\u001b[38;5;124m'\u001b[39m)\n\u001b[0;32m---> 15\u001b[0m FEATURE_GROUP_METADATA \u001b[38;5;241m=\u001b[39m FeatureGroupConfig(\n\u001b[1;32m     16\u001b[0m     name \u001b[38;5;241m=\u001b[39m \u001b[38;5;124m'\u001b[39m\u001b[38;5;124mticket_demand_feature_group2\u001b[39m\u001b[38;5;124m'\u001b[39m,\n\u001b[1;32m     17\u001b[0m     version \u001b[38;5;241m=\u001b[39m \u001b[38;5;241m3\u001b[39m,\n\u001b[1;32m     18\u001b[0m     description \u001b[38;5;241m=\u001b[39m \u001b[38;5;124m'\u001b[39m\u001b[38;5;124mFeature group with hourly time-series data of historical demand values\u001b[39m\u001b[38;5;124m'\u001b[39m,\n\u001b[1;32m     19\u001b[0m     primary_key \u001b[38;5;241m=\u001b[39m [\u001b[38;5;124m'\u001b[39m\u001b[38;5;124mdate\u001b[39m\u001b[38;5;124m'\u001b[39m],\n\u001b[1;32m     20\u001b[0m     event_date \u001b[38;5;241m=\u001b[39m \u001b[38;5;124m'\u001b[39m\u001b[38;5;124mdate\u001b[39m\u001b[38;5;124m'\u001b[39m,\n\u001b[1;32m     21\u001b[0m     online_enabled \u001b[38;5;241m=\u001b[39m \u001b[38;5;28;01mTrue\u001b[39;00m\n\u001b[1;32m     22\u001b[0m )\n\u001b[1;32m     24\u001b[0m FEATURE_VIEW_METADATA \u001b[38;5;241m=\u001b[39m FeatureViewConfig(\n\u001b[1;32m     25\u001b[0m     name \u001b[38;5;241m=\u001b[39m \u001b[38;5;124m'\u001b[39m\u001b[38;5;124mticket_demand_feature_view2\u001b[39m\u001b[38;5;124m'\u001b[39m,\n\u001b[1;32m     26\u001b[0m     version \u001b[38;5;241m=\u001b[39m \u001b[38;5;241m3\u001b[39m,\n\u001b[1;32m     27\u001b[0m     feature_group \u001b[38;5;241m=\u001b[39m FEATURE_GROUP_METADATA\n\u001b[1;32m     28\u001b[0m )\n\u001b[1;32m     30\u001b[0m MODEL_NAME \u001b[38;5;241m=\u001b[39m \u001b[38;5;124m'\u001b[39m\u001b[38;5;124mticket_demand_predictor_next_hour\u001b[39m\u001b[38;5;124m'\u001b[39m\n",
      "\u001b[0;31mTypeError\u001b[0m: FeatureGroupConfig.__init__() got an unexpected keyword argument 'event_date'"
     ]
    }
   ],
   "source": [
    "# Install the hopsworks package\n",
    "%pip install hopsworks\n",
    "\n",
    "import hopsworks\n",
    "from src.components import feature_group_config"
   ]
  },
  {
   "cell_type": "code",
   "execution_count": null,
   "metadata": {},
   "outputs": [],
   "source": [
    "hopsworks.__version__"
   ]
  },
  {
   "cell_type": "code",
   "execution_count": 8,
   "metadata": {},
   "outputs": [
    {
     "ename": "TypeError",
     "evalue": "FeatureGroupConfig.__init__() got an unexpected keyword argument 'event_date'",
     "output_type": "error",
     "traceback": [
      "\u001b[0;31m---------------------------------------------------------------------------\u001b[0m",
      "\u001b[0;31mTypeError\u001b[0m                                 Traceback (most recent call last)",
      "Cell \u001b[0;32mIn[8], line 3\u001b[0m\n\u001b[1;32m      1\u001b[0m \u001b[38;5;66;03m# save predictions to the feature store\u001b[39;00m\n\u001b[1;32m      2\u001b[0m \u001b[38;5;28;01mfrom\u001b[39;00m \u001b[38;5;21;01msrc\u001b[39;00m\u001b[38;5;21;01m.\u001b[39;00m\u001b[38;5;21;01mcomponents\u001b[39;00m\u001b[38;5;21;01m.\u001b[39;00m\u001b[38;5;21;01mfeature_store_api\u001b[39;00m \u001b[38;5;28;01mimport\u001b[39;00m get_feature_store\n\u001b[0;32m----> 3\u001b[0m \u001b[38;5;28;01mimport\u001b[39;00m \u001b[38;5;21;01msrc\u001b[39;00m\u001b[38;5;21;01m.\u001b[39;00m\u001b[38;5;21;01mcomponents\u001b[39;00m\u001b[38;5;21;01m.\u001b[39;00m\u001b[38;5;21;01mfeature_group_config\u001b[39;00m \u001b[38;5;28;01mas\u001b[39;00m \u001b[38;5;21;01mconfig\u001b[39;00m\n\u001b[1;32m      5\u001b[0m \u001b[38;5;66;03m# connect to the feature group\u001b[39;00m\n\u001b[1;32m      6\u001b[0m feature_group \u001b[38;5;241m=\u001b[39m get_feature_store()\u001b[38;5;241m.\u001b[39mget_or_create_feature_group(\n\u001b[1;32m      7\u001b[0m     name\u001b[38;5;241m=\u001b[39mconfig\u001b[38;5;241m.\u001b[39mFEATURE_GROUP_METADATA\u001b[38;5;241m.\u001b[39mname,\n\u001b[1;32m      8\u001b[0m     version\u001b[38;5;241m=\u001b[39m config\u001b[38;5;241m.\u001b[39mFEATURE_GROUP_METADATA\u001b[38;5;241m.\u001b[39mversion,\n\u001b[0;32m   (...)\u001b[0m\n\u001b[1;32m     11\u001b[0m     event_time \u001b[38;5;241m=\u001b[39m \u001b[38;5;124m'\u001b[39m\u001b[38;5;124mdate\u001b[39m\u001b[38;5;124m'\u001b[39m\n\u001b[1;32m     12\u001b[0m )\n",
      "File \u001b[0;32m~/Desktop/ML Projects/PremierLeague_TicketDemand_Predictor/src/components/feature_group_config.py:15\u001b[0m\n\u001b[1;32m     12\u001b[0m \u001b[38;5;28;01mexcept\u001b[39;00m:\n\u001b[1;32m     13\u001b[0m     \u001b[38;5;28;01mraise\u001b[39;00m \u001b[38;5;167;01mException\u001b[39;00m(\u001b[38;5;124m'\u001b[39m\u001b[38;5;124mCreate an .env file in the project root and enter the HOPSWORKS_PROJECT_NAME and HOPSWORKS_API_KEY\u001b[39m\u001b[38;5;124m'\u001b[39m)\n\u001b[0;32m---> 15\u001b[0m FEATURE_GROUP_METADATA \u001b[38;5;241m=\u001b[39m FeatureGroupConfig(\n\u001b[1;32m     16\u001b[0m     name \u001b[38;5;241m=\u001b[39m \u001b[38;5;124m'\u001b[39m\u001b[38;5;124mticket_demand_feature_group2\u001b[39m\u001b[38;5;124m'\u001b[39m,\n\u001b[1;32m     17\u001b[0m     version \u001b[38;5;241m=\u001b[39m \u001b[38;5;241m3\u001b[39m,\n\u001b[1;32m     18\u001b[0m     description \u001b[38;5;241m=\u001b[39m \u001b[38;5;124m'\u001b[39m\u001b[38;5;124mFeature group with hourly time-series data of historical demand values\u001b[39m\u001b[38;5;124m'\u001b[39m,\n\u001b[1;32m     19\u001b[0m     primary_key \u001b[38;5;241m=\u001b[39m [\u001b[38;5;124m'\u001b[39m\u001b[38;5;124mdate\u001b[39m\u001b[38;5;124m'\u001b[39m],\n\u001b[1;32m     20\u001b[0m     event_date \u001b[38;5;241m=\u001b[39m \u001b[38;5;124m'\u001b[39m\u001b[38;5;124mdate\u001b[39m\u001b[38;5;124m'\u001b[39m,\n\u001b[1;32m     21\u001b[0m     online_enabled \u001b[38;5;241m=\u001b[39m \u001b[38;5;28;01mTrue\u001b[39;00m\n\u001b[1;32m     22\u001b[0m )\n\u001b[1;32m     24\u001b[0m FEATURE_VIEW_METADATA \u001b[38;5;241m=\u001b[39m FeatureViewConfig(\n\u001b[1;32m     25\u001b[0m     name \u001b[38;5;241m=\u001b[39m \u001b[38;5;124m'\u001b[39m\u001b[38;5;124mticket_demand_feature_view2\u001b[39m\u001b[38;5;124m'\u001b[39m,\n\u001b[1;32m     26\u001b[0m     version \u001b[38;5;241m=\u001b[39m \u001b[38;5;241m3\u001b[39m,\n\u001b[1;32m     27\u001b[0m     feature_group \u001b[38;5;241m=\u001b[39m FEATURE_GROUP_METADATA\n\u001b[1;32m     28\u001b[0m )\n\u001b[1;32m     30\u001b[0m MODEL_NAME \u001b[38;5;241m=\u001b[39m \u001b[38;5;124m'\u001b[39m\u001b[38;5;124mticket_demand_predictor_next_hour\u001b[39m\u001b[38;5;124m'\u001b[39m\n",
      "\u001b[0;31mTypeError\u001b[0m: FeatureGroupConfig.__init__() got an unexpected keyword argument 'event_date'"
     ]
    }
   ],
   "source": [
    "# save predictions to the feature store\n",
    "from src.components.feature_store_api import get_feature_store\n",
    "import src.components.feature_group_config as config\n",
    "\n",
    "# connect to the feature group\n",
    "feature_group = get_feature_store().get_or_create_feature_group(\n",
    "    name=config.FEATURE_GROUP_METADATA.name,\n",
    "    version= config.FEATURE_GROUP_METADATA.version,\n",
    "    description = \"Time-series data at hourly frequency\",\n",
    "    primary_key = ['sub_region_code', 'date'],\n",
    "    event_time = 'date'\n",
    ")"
   ]
  },
  {
   "cell_type": "code",
   "execution_count": null,
   "metadata": {},
   "outputs": [],
   "source": [
    "feature_group.insert(data, write_options={\"wait_for_job\": False})"
   ]
  }
 ],
 "metadata": {
  "kernelspec": {
   "display_name": "base",
   "language": "python",
   "name": "python3"
  },
  "language_info": {
   "codemirror_mode": {
    "name": "ipython",
    "version": 3
   },
   "file_extension": ".py",
   "mimetype": "text/x-python",
   "name": "python",
   "nbconvert_exporter": "python",
   "pygments_lexer": "ipython3",
   "version": "3.11.5"
  }
 },
 "nbformat": 4,
 "nbformat_minor": 2
}
